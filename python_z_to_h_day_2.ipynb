{
  "nbformat": 4,
  "nbformat_minor": 0,
  "metadata": {
    "colab": {
      "name": "python z to h day 2.ipynb",
      "provenance": [],
      "authorship_tag": "ABX9TyPeZIFiUvPQ/dYxSBLSP52B",
      "include_colab_link": true
    },
    "kernelspec": {
      "name": "python3",
      "display_name": "Python 3"
    },
    "language_info": {
      "name": "python"
    }
  },
  "cells": [
    {
      "cell_type": "markdown",
      "metadata": {
        "id": "view-in-github",
        "colab_type": "text"
      },
      "source": [
        "<a href=\"https://colab.research.google.com/github/Maduraa-ravi/Maduraa-ravi.github.io/blob/main/python_z_to_h_day_2.ipynb\" target=\"_parent\"><img src=\"https://colab.research.google.com/assets/colab-badge.svg\" alt=\"Open In Colab\"/></a>"
      ]
    },
    {
      "cell_type": "code",
      "metadata": {
        "id": "Dd6Mf0Vylmm-"
      },
      "source": [
        ""
      ],
      "execution_count": null,
      "outputs": []
    },
    {
      "cell_type": "code",
      "metadata": {
        "id": "3k_9FhkEm3U4",
        "colab": {
          "base_uri": "https://localhost:8080/"
        },
        "outputId": "74dbdb41-7791-4963-eba3-9b9a92ce102c"
      },
      "source": [
        "#DAY 2 ASSIGNMENT\n",
        "#to remove all the occurenece of an elemnt in a list\n",
        "li=[1,2,3,3,4]\n",
        "print(li)\n",
        "list(filter(lambda a:a!=3,li))\n"
      ],
      "execution_count": 7,
      "outputs": [
        {
          "output_type": "stream",
          "text": [
            "[1, 2, 3, 3, 4]\n"
          ],
          "name": "stdout"
        },
        {
          "output_type": "execute_result",
          "data": {
            "text/plain": [
              "[1, 2, 4]"
            ]
          },
          "metadata": {
            "tags": []
          },
          "execution_count": 7
        }
      ]
    },
    {
      "cell_type": "code",
      "metadata": {
        "colab": {
          "base_uri": "https://localhost:8080/"
        },
        "id": "g-XJj49Jo1A_",
        "outputId": "8ec72995-38b9-4e56-a149-4580258135e3"
      },
      "source": [
        "#PROJECT :TO GENERATE A OTP\n",
        "import random\n",
        "import string\n",
        "length= 8\n",
        "otp= ''\n",
        "characters = string.ascii_letters+ string.digits\n",
        "for i in range(length):\n",
        "  otp = otp + random.choice(characters)\n",
        "print('OTP',otp)"
      ],
      "execution_count": 16,
      "outputs": [
        {
          "output_type": "stream",
          "text": [
            "OTP n1C73JpL\n"
          ],
          "name": "stdout"
        }
      ]
    }
  ]
}